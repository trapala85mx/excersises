{
 "cells": [
  {
   "cell_type": "code",
   "execution_count": 37,
   "metadata": {},
   "outputs": [],
   "source": [
    "from datetime import datetime"
   ]
  },
  {
   "cell_type": "markdown",
   "metadata": {},
   "source": [
    "# Concurrencia vs Paralelismo"
   ]
  },
  {
   "cell_type": "markdown",
   "metadata": {},
   "source": [
    "- Paralelismo => Caminar mientras masticas chicle\n",
    "- Concurrencia => Trotas y te amarras las agujetas\n",
    "- Es decir, Paralelismo es cuando podemos realizar dos cosas en el mismo espacio de tiempo sin necesidad de parar una tarea para hacer la otra\n",
    "- Concurrencia es hacer dos cosas, casi al mismo tiempo, mientras se deja de hacer una se ejecuta otra para así aprovehcar el tiempo"
   ]
  },
  {
   "cell_type": "markdown",
   "metadata": {},
   "source": [
    "\"\"Con asyncio, lo que hacemos es concurrencia, es decir, en un mismo hilo ejecutamos varias cosas tratando de tomar ventaja de los momentos que una tarea hace pasusas para hacer otras, pareciendo que las hicieran al mismo tiempo\"\""
   ]
  },
  {
   "cell_type": "markdown",
   "metadata": {},
   "source": [
    "Un ejemplo, cuando descargamos una página y esta tarda, si ejecutáramos síncronamente tendríamos que esperar a que termine de cargar para seguir trabajando pero, si lo hacemos asíncrona podríamos ejecutar otras tareas mientras se espera"
   ]
  },
  {
   "cell_type": "markdown",
   "metadata": {},
   "source": [
    "# Asyncio"
   ]
  },
  {
   "cell_type": "markdown",
   "metadata": {},
   "source": [
    "- Para programación asíncrona\n",
    "- Es una librería para escribir código concurrente, usando **async/await**"
   ]
  },
  {
   "cell_type": "markdown",
   "metadata": {},
   "source": [
    "- Este es un código síncrono, por lo que no continuará la ejecución hasta que divs1 haya finalizado."
   ]
  },
  {
   "cell_type": "code",
   "execution_count": 48,
   "metadata": {},
   "outputs": [
    {
     "name": "stdout",
     "output_type": "stream",
     "text": [
      "inicio: 12\n",
      "finding nums in range 508000 divisible by 34113\n",
      "Done w/ nums in range 508000 divisible by 34113\n",
      "finding nums in range 100052 divisible by 3210\n",
      "Done w/ nums in range 100052 divisible by 3210\n",
      "finding nums in range 500 divisible by 3\n",
      "Done w/ nums in range 500 divisible by 3\n",
      "fin: 12\n",
      "tiempo total: 0:00:00.063480\n"
     ]
    }
   ],
   "source": [
    "def find_divisibles(inrange, div_by):\n",
    "    print(\"finding nums in range {} divisible by {}\".format(inrange, div_by))\n",
    "    located = []\n",
    "    for i in range(inrange):\n",
    "        if i % div_by == 0:\n",
    "            located.append(i)\n",
    "    print(\"Done w/ nums in range {} divisible by {}\".format(inrange, div_by))\n",
    "    return located\n",
    "\n",
    "\n",
    "def main():\n",
    "    start = datetime.now()\n",
    "    print(f'inicio: {start.second}')\n",
    "    divs1 = find_divisibles(508000, 34113)\n",
    "    divs2 = find_divisibles(100052, 3210)\n",
    "    divs3 = find_divisibles(500, 3)\n",
    "    end = datetime.now()\n",
    "    print(f'fin: {end.second}')\n",
    "    print(f'tiempo total: {(end - start)}')\n",
    "\n",
    "\n",
    "if __name__ == '__main__':\n",
    "    main()\n"
   ]
  },
  {
   "cell_type": "markdown",
   "metadata": {},
   "source": [
    "- Esto nos genera un mayor tiempo de ejecución y teniendo tiempo de espera entre divs1 y divs2.\n",
    "- Ahora trataremos de lidiar con ese tiempo y aprovecharlo para ejecutar otro código en ese tiempo."
   ]
  },
  {
   "cell_type": "markdown",
   "metadata": {},
   "source": [
    "- Importamos la librería asyncio de python\n",
    "- Luego, nest_asyncio es una instalación (pip install nest_asyncio) para poer trabajar en jupyter notebooks"
   ]
  },
  {
   "cell_type": "code",
   "execution_count": 39,
   "metadata": {},
   "outputs": [],
   "source": [
    "import asyncio\n",
    "import nest_asyncio\n",
    "nest_asyncio.apply()"
   ]
  },
  {
   "cell_type": "markdown",
   "metadata": {},
   "source": [
    "- Lo primero es hacer que nuestras funciones nos devuelvan una Coroutine. Esto lo hacemos envolviendo a la función con **async**\n",
    "    - Agregar esta palabra no las hace Coroutines sino que indica que nos devolverá una Coroutine que podrá usarse con **await**\n",
    "- Lo haremos para las funciones que querramos que se ejecuten de maner asíncrona, en ete caso las dos.\n",
    "- Para poder usar *asyncio* debemos trabajar un un ciclo, el cual se crea con get_event_loop() como se muestra a continuación."
   ]
  },
  {
   "cell_type": "code",
   "execution_count": 47,
   "metadata": {},
   "outputs": [
    {
     "name": "stdout",
     "output_type": "stream",
     "text": [
      "inicio: 47\n",
      "fin: 47\n",
      "tiempo total: 0:00:00.000202\n"
     ]
    },
    {
     "name": "stderr",
     "output_type": "stream",
     "text": [
      "/usr/local/lib/python3.9/asyncio/tasks.py:256: RuntimeWarning: coroutine 'find_divisibles' was never awaited\n",
      "  result = coro.send(None)\n",
      "RuntimeWarning: Enable tracemalloc to get the object allocation traceback\n"
     ]
    }
   ],
   "source": [
    "async def find_divisibles(inrange, div_by):\n",
    "    print(\"finding nums in range {} divisible by {}\".format(inrange, div_by))\n",
    "    located = []\n",
    "    for i in range(inrange):\n",
    "        if i % div_by == 0:\n",
    "            located.append(i)\n",
    "    print(\"Done w/ nums in range {} divisible by {}\".format(inrange, div_by))\n",
    "    return located\n",
    "\n",
    "\n",
    "async def main():\n",
    "    start = datetime.now()\n",
    "    print(f'inicio: {start.second}')\n",
    "    divs1 = find_divisibles(508000, 34113)\n",
    "    divs2 = find_divisibles(100052, 3210)\n",
    "    divs3 = find_divisibles(500, 3)\n",
    "    end = datetime.now()\n",
    "    print(f'fin: {end.second}')\n",
    "    print(f'tiempo total: {(end - start)}')\n",
    "\n",
    "\n",
    "if __name__ == '__main__':\n",
    "    try:\n",
    "        loop = asyncio.get_event_loop()\n",
    "        loop.run_until_complete(main())\n",
    "    except Exception as e:\n",
    "        print(e)"
   ]
  },
  {
   "cell_type": "markdown",
   "metadata": {},
   "source": [
    "- Podemos ver que no se ejecuta cómo deseamos.\n",
    "- Esto se debe a qué aún no le hemos agregado al loop.\n",
    "- Para esoto, en donde hagamos llamado de la función que queremos sea asíncrona, la agregamos como tarea del loop como se muestra a continuación\n",
    "- También, como ya estamos ejecutando asíncronamente la función, debemos esperar por sus resultado en algún lado. Para esto esperamos con **await asyncio.wait**, pasando como parámetro la lista de las variables que llaman a la función asíncrona."
   ]
  },
  {
   "cell_type": "code",
   "execution_count": 41,
   "metadata": {},
   "outputs": [
    {
     "name": "stdout",
     "output_type": "stream",
     "text": [
      "inicio: 9\n",
      "finding nums in range 50800000 divisible by 34113\n",
      "Done w/ nums in range 50800000 divisible by 34113\n",
      "finding nums in range 100052 divisible by 3210\n",
      "Done w/ nums in range 100052 divisible by 3210\n",
      "finding nums in range 500 divisible by 3\n",
      "Done w/ nums in range 500 divisible by 3\n",
      "fin: 14\n",
      "tiempo total: 0:00:04.656849\n"
     ]
    }
   ],
   "source": [
    "async def find_divisibles(inrange, div_by):\n",
    "    print(\"finding nums in range {} divisible by {}\".format(inrange, div_by))\n",
    "    located = []\n",
    "    for i in range(inrange):\n",
    "        if i % div_by == 0:\n",
    "            located.append(i)\n",
    "    print(\"Done w/ nums in range {} divisible by {}\".format(inrange, div_by))\n",
    "    return located\n",
    "\n",
    "\n",
    "async def main():\n",
    "    start = datetime.now()\n",
    "    print(f'inicio: {start.second}')\n",
    "    divs1 = loop.create_task(find_divisibles(50800000, 34113))\n",
    "    divs2 = loop.create_task(find_divisibles(100052, 3210))\n",
    "    divs3 = loop.create_task(find_divisibles(500, 3))\n",
    "    await asyncio.wait([divs1, divs2, divs3])\n",
    "    end = datetime.now()\n",
    "    print(f'fin: {end.second}')\n",
    "    print(f'tiempo total: {(end - start)}')\n",
    "\n",
    "\n",
    "if __name__ == '__main__':\n",
    "    try:\n",
    "        loop = asyncio.get_event_loop()\n",
    "        loop.run_until_complete(main())\n",
    "    except Exception as e:\n",
    "        print(e)"
   ]
  },
  {
   "cell_type": "markdown",
   "metadata": {},
   "source": [
    "- Pero vemos que se sigue ejecutando síncronamente\n",
    "- Esto se debe a que la función find_divisibles sigue ejecutándose síncrnamente. No vemos un punto a que tenemos una tarea que no genera tiempo de espera o tiempos muertos como si lo fuera abrir un archivo pesado o esperar a cargar una página.\n",
    "- Para ejemplificar esto mejor, modificaremos el código agregando tiempo de espera\n",
    "    - para esto hacemos que verifique si el número es divisible en 50,000 para generar un poco de espera entre las llamadas y que no sea tanta espera\n",
    "    - Por ejemplo, para el número más grande serán unas 2 veces que espere , para el sugundo 1 y para el tercero ninguna\n",
    "    - Lo otro que hacemos es disminuir el número más grande para que solo haga 2 pausas ya que debido a las pausas el tiempo incrementará aunque seá asíncrona"
   ]
  },
  {
   "cell_type": "code",
   "execution_count": 49,
   "metadata": {},
   "outputs": [
    {
     "name": "stdout",
     "output_type": "stream",
     "text": [
      "inicio: 28\n",
      "finding nums in range 508000 divisible by 34113\n",
      "finding nums in range 100052 divisible by 3210\n",
      "finding nums in range 500 divisible by 3\n",
      "Done w/ nums in range 500 divisible by 3\n",
      "Done w/ nums in range 100052 divisible by 3210\n",
      "Done w/ nums in range 508000 divisible by 34113\n",
      "fin: 28\n",
      "tiempo total: 0:00:00.109224\n"
     ]
    }
   ],
   "source": [
    "from time import sleep\n",
    "\n",
    "\n",
    "async def find_divisibles(inrange, div_by):\n",
    "    print(\"finding nums in range {} divisible by {}\".format(inrange, div_by))\n",
    "    located = []\n",
    "    for i in range(inrange):\n",
    "        if i % div_by == 0:\n",
    "            located.append(i)\n",
    "        if i % 50000 == 0:\n",
    "            await asyncio.sleep(0.00001)\n",
    "    print(\"Done w/ nums in range {} divisible by {}\".format(inrange, div_by))\n",
    "    return located\n",
    "\n",
    "\n",
    "async def main():\n",
    "    start = datetime.now()\n",
    "    print(f'inicio: {start.second}')\n",
    "    divs1 = loop.create_task(find_divisibles(508000, 34113))\n",
    "    divs2 = loop.create_task(find_divisibles(100052, 3210))\n",
    "    divs3 = loop.create_task(find_divisibles(500, 3))\n",
    "    await asyncio.wait([divs1, divs2, divs3])\n",
    "    end = datetime.now()\n",
    "    print(f'fin: {end.second}')\n",
    "    print(f'tiempo total: {(end - start)}')\n",
    "\n",
    "\n",
    "if __name__ == '__main__':\n",
    "    try:\n",
    "        loop = asyncio.get_event_loop()\n",
    "        loop.run_until_complete(main())\n",
    "    except Exception as e:\n",
    "        print(e)"
   ]
  },
  {
   "cell_type": "markdown",
   "metadata": {},
   "source": [
    "- Vemos que la ejecución, con los mismos datos tarda 0.63 mientras que ahora es 0.1\n",
    "- ya con el resultado podemos notar que las ejecuciones no fueron síncronas sino que primero se ejecuta la que gasta menos tiempo (la de 500). Esto se debe a que mientras las otras dos siguen ejecutándose porque buscan el múltiplo de 50,000\n",
    "- Al terminar la de 500 se ejecuta la de 100052 que es la que toma menos tiempo mientras se ejecuta la primera\n",
    "- Siendo la primera la que se ejecuta hasta terminar\n",
    "- Todo esto nos muestra que se ejecutó de manera asíncrona"
   ]
  },
  {
   "cell_type": "markdown",
   "metadata": {},
   "source": [
    "- Pero, esto nos muestra la ejecución y eso porque le colocamos el print(). No nos muestra los valores, es decir, el return de la función\n",
    "- Para poder trabajar con los resultados de la función asíncrona tenemos que usar el método de la Coroutine .result() ya sean en la misma función donde enviamos al loop a la función asíncrona o retornamos la coroutine que nos retorna la función asíncrona y luego usamos .result()"
   ]
  },
  {
   "cell_type": "code",
   "execution_count": 51,
   "metadata": {},
   "outputs": [
    {
     "name": "stdout",
     "output_type": "stream",
     "text": [
      "inicio: 19\n",
      "finding nums in range 508000 divisible by 34113\n",
      "finding nums in range 100052 divisible by 3210\n",
      "finding nums in range 500 divisible by 3\n",
      "Done w/ nums in range 500 divisible by 3\n",
      "Done w/ nums in range 100052 divisible by 3210\n",
      "Done w/ nums in range 508000 divisible by 34113\n",
      "[0, 34113, 68226, 102339, 136452, 170565, 204678, 238791, 272904, 307017, 341130, 375243, 409356, 443469, 477582]\n",
      "fin: 19\n",
      "tiempo total: 0:00:00.098560\n"
     ]
    }
   ],
   "source": [
    "from time import sleep\n",
    "\n",
    "\n",
    "async def find_divisibles(inrange, div_by):\n",
    "    print(\"finding nums in range {} divisible by {}\".format(inrange, div_by))\n",
    "    located = []\n",
    "    for i in range(inrange):\n",
    "        if i % div_by == 0:\n",
    "            located.append(i)\n",
    "        if i % 50000 == 0:\n",
    "            await asyncio.sleep(0.00001)\n",
    "    print(\"Done w/ nums in range {} divisible by {}\".format(inrange, div_by))\n",
    "    return located\n",
    "\n",
    "\n",
    "async def main():\n",
    "    start = datetime.now()\n",
    "    print(f'inicio: {start.second}')\n",
    "    divs1 = loop.create_task(find_divisibles(508000, 34113))\n",
    "    divs2 = loop.create_task(find_divisibles(100052, 3210))\n",
    "    divs3 = loop.create_task(find_divisibles(500, 3))\n",
    "    await asyncio.wait([divs1, divs2, divs3])\n",
    "    print(divs1.result())\n",
    "    end = datetime.now()\n",
    "    print(f'fin: {end.second}')\n",
    "    print(f'tiempo total: {(end - start)}')\n",
    "    return divs2, divs3\n",
    "\n",
    "\n",
    "if __name__ == '__main__':\n",
    "    try:\n",
    "        loop = asyncio.get_event_loop()\n",
    "        d2, d3 = loop.run_until_complete(main())\n",
    "        print(d2.result())\n",
    "    except Exception as e:\n",
    "        print(e)"
   ]
  }
 ],
 "metadata": {
  "kernelspec": {
   "display_name": "Python 3.9.13 ('venv': venv)",
   "language": "python",
   "name": "python3"
  },
  "language_info": {
   "codemirror_mode": {
    "name": "ipython",
    "version": 3
   },
   "file_extension": ".py",
   "mimetype": "text/x-python",
   "name": "python",
   "nbconvert_exporter": "python",
   "pygments_lexer": "ipython3",
   "version": "3.9.13"
  },
  "orig_nbformat": 4,
  "vscode": {
   "interpreter": {
    "hash": "98dc715f1ab77afe33f6d1a438232ecf2d3c3d34af9399d9e32b45f73f6fc8fe"
   }
  }
 },
 "nbformat": 4,
 "nbformat_minor": 2
}
